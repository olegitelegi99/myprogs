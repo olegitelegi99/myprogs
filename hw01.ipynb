{
  "cells": [
    {
      "cell_type": "markdown",
      "id": "9074d943",
      "metadata": {
        "id": "9074d943"
      },
      "source": [
        "<center>\n",
        "<img src=\"https://imgs.xkcd.com/comics/convincing.png\" height=\"250\">\n",
        "\n",
        "# Андан на экономе: домашнее задание 1\n",
        "</center>\n",
        "\n",
        "\n",
        "> И обратился я, и видел под солнцем,  <br>\n",
        "> что не проворным достаётся успешный бег, <br>\n",
        "> не храбрым — победа, <br>\n",
        "> не мудрым — хлеб, <br>\n",
        "> и не у разумных — богатство,  <br>\n",
        "> и не искусным — благорасположение, <br>\n",
        "> но время и случай для всех их. <br>\n",
        "\n",
        "$\\qquad$ $\\qquad$ $\\qquad$ $\\qquad$ 🔥👩‍🚀☦️ **Екклесиаст 9:11**\n"
      ]
    },
    {
      "cell_type": "markdown",
      "id": "dfe2c20c",
      "metadata": {
        "id": "dfe2c20c"
      },
      "source": [
        "**ФИО:**\n",
        "\n",
        "**Факт о себе:**\n",
        "\n",
        "**Бонус (1 балл):**  Прикрепите фотографию того, как вы начали этот февраль. Какую самую классную эмоцию вы испытали за прошедший месяц?"
      ]
    },
    {
      "cell_type": "markdown",
      "id": "f40dc119",
      "metadata": {
        "id": "f40dc119"
      },
      "source": [
        "## Общая информация\n",
        "\n",
        "\n",
        "__Дата выдачи:__ 01.02.2023\n",
        "\n",
        "__Мягкий дедлайн:__ 23:59MSK 25.02.2023\n",
        "\n",
        "__Жесткий дедлайн:__ 23:59MSK 03.03.2023"
      ]
    },
    {
      "cell_type": "markdown",
      "id": "3e8ede2d",
      "metadata": {
        "id": "3e8ede2d"
      },
      "source": [
        "## Оценивание и штрафы\n",
        "\n",
        "Каждая из задач имеет определенную «стоимость» (указана в скобках около задачи). Максимально допустимая оценка за работу — 100 баллов. За каждый день просрочки после мягкого дедлайна снимается 10 баллов. После жёсткого дедлайна работы не принимаются. Даже при опозданиии на одну секунду. Сдавайте работы заранее.\n",
        "\n",
        "Мягкий дедлайн можно отодвинуть без потери баллов на 1,2 или 3 дня. Суммарно для откладывания в запасе есть три дня. Можно отодвинуть один дедлайн на три дня, а можно три дедлайна подвинуть на один день. Распоряжаться этими днями студент может как угодно. Жёсткий дедлайн, при этом, не меняется. Если такое произошло, нужно сообщить о сдвиге при сдаче работы.\n",
        "\n",
        "Задание выполняется самостоятельно. «Похожие» решения считаются плагиатом и все задействованные студенты (в том числе те, у кого списали) не могут получить за него больше 0 баллов. Если вы нашли решение какого-то из заданий (или его часть) в открытом источнике, необходимо указать ссылку на этот источник (скорее всего вы будете не единственным, кто это нашел, поэтому чтобы исключить подозрение в плагиате, необходима ссылка на источник).\n",
        "\n",
        "Любой из студентов может быть вызван на защиту любого домашнего задания. В таком случае итоговая оценка студента определяется в результате защиты.\n",
        "\n",
        "Постарайтесь по максимуму избегать циклов. За необоснованные циклы, которых можно было бы избежать, мы будем снижать баллы. Любые одинарные циклы это нормально. Если вы где-то пишете вложенные циклы, задумайтесь, как можно переписать этот код в векторном виде на `numpy`."
      ]
    },
    {
      "cell_type": "markdown",
      "id": "58abed2e",
      "metadata": {
        "id": "58abed2e"
      },
      "source": [
        "## Формат сдачи\n",
        "\n",
        "Сам ноутбук называйте в формате hw-01-USERNAME.ipynb, где USERNAME — ваши фамилия и имя на латинице. Куда сдавать файл мы расскажем вам немного позже в канале с новостями."
      ]
    },
    {
      "cell_type": "markdown",
      "id": "23434b16",
      "metadata": {
        "id": "23434b16"
      },
      "source": [
        "## Оформление"
      ]
    },
    {
      "cell_type": "markdown",
      "id": "8ce4c5db",
      "metadata": {
        "id": "8ce4c5db"
      },
      "source": [
        "1. Be good, drink milk and [think of Russia](https://www.youtube.com/watch?v=jyxSFfBKMxQ)\n",
        "2. Обязательно фиксируйте зерно генератора случайных чисел в экспериментах. При перезапуске кода значения не должны меняться.\n",
        "3. Вверху файла подпишите фамилию, имя, группу и какой-то занимательный факт о себе.\n",
        "4. Обратите внимание, что у графиков должны быть подписаны оси, заголовок графика и при необходимости обязательно наличие легенды.\n",
        "\n",
        "> За отсутствие названий графиков и подписей к осям могут снижаться баллы. Все картинки должны быть самодостаточны и визуально удобны для восприятия, так чтобы не нужно было смотреть ваш код или знать задание, чтобы понять что на них изображено.\n",
        "\n",
        "\n",
        "Для каждого построенного графика делайте выводы. Эти выводы не должны быть поверхностными и очевидными. Не будьте мудрым королём.\n",
        "\n",
        "<br>\n",
        "\n",
        "<center>\n",
        "<img src=\"https://raw.githubusercontent.com/hse-econ-data-science/andan_2023/main/hw/king.png\" width=\"400\">\n",
        "</center>\n",
        "\n",
        "**Пример плохого вывода:** Синенькая линия идет вверх, а красная вниз. Черненькая идет вниз, а потом вверх.\n",
        "\n",
        "<br>\n",
        "\n",
        "<center>\n",
        "<img src=\"https://raw.githubusercontent.com/hse-econ-data-science/andan_2023/main/hw/bad_lines.png\" width=\"800\">\n",
        "</center>\n",
        "\n",
        "Все выводы должны быть осмысленными."
      ]
    },
    {
      "cell_type": "code",
      "execution_count": 2,
      "id": "6967f27c",
      "metadata": {
        "id": "6967f27c"
      },
      "outputs": [],
      "source": [
        "import numpy as np         # библиотека для матриц и математики\n",
        "import pandas as pd        # библиотека дл работы с табличками\n",
        "from scipy import stats    # модуль для работы со статистикой\n",
        "\n",
        "# библиотеки для визуализации и картинок\n",
        "import matplotlib.pyplot as plt\n",
        "import seaborn as sns\n",
        "\n",
        "np.random.seed(0)"
      ]
    },
    {
      "cell_type": "markdown",
      "id": "e2afc84a",
      "metadata": {
        "id": "e2afc84a"
      },
      "source": [
        "## Задача 1: скучная разминка (25 баллов)"
      ]
    },
    {
      "cell_type": "markdown",
      "id": "bfd50bea",
      "metadata": {
        "id": "bfd50bea"
      },
      "source": [
        "__[5 баллов]__ Создайте диагональную матрицу $5\\times5$ с диагональными элементами 1, 2, 3, 4 и 5.\n",
        "\n",
        "- Найдите её след с помощью библиотечных функций.\n",
        "- Найдите обратную к ней матрицу."
      ]
    },
    {
      "cell_type": "code",
      "execution_count": 3,
      "id": "074b8df8",
      "metadata": {
        "colab": {
          "base_uri": "https://localhost:8080/"
        },
        "id": "074b8df8",
        "outputId": "e8c931de-aa21-412e-b4c1-3ce2257c613d"
      },
      "outputs": [
        {
          "output_type": "stream",
          "name": "stdout",
          "text": [
            "15\n"
          ]
        },
        {
          "output_type": "execute_result",
          "data": {
            "text/plain": [
              "array([[1.        , 0.        , 0.        , 0.        , 0.        ],\n",
              "       [0.        , 0.5       , 0.        , 0.        , 0.        ],\n",
              "       [0.        , 0.        , 0.33333333, 0.        , 0.        ],\n",
              "       [0.        , 0.        , 0.        , 0.25      , 0.        ],\n",
              "       [0.        , 0.        , 0.        , 0.        , 0.2       ]])"
            ]
          },
          "metadata": {},
          "execution_count": 3
        }
      ],
      "source": [
        "# your code here\n",
        "# (♡-_-♡)\n",
        "A = np.diag([1, 2, 3, 4, 5])\n",
        "print(np.trace(A))\n",
        "np.linalg.inv(A)"
      ]
    },
    {
      "cell_type": "markdown",
      "id": "1b238967",
      "metadata": {
        "id": "1b238967"
      },
      "source": [
        "__[5 баллов]__ сгенерируйте случайную матрицу $X$ размера $4\\times5$\n",
        "\n",
        "- Найдите определитель подматрицы матрицы $X$, расположенной на пересечении 2 и 3 строки и 1 и 2 столбца; считаем, что строки и столбцы нумеруются с единицы (используйте slicing!). Такой определитель называется **минором** матрицы $X$.\n",
        "- Найдите произведение $X^TX$, его определитель и след."
      ]
    },
    {
      "cell_type": "code",
      "execution_count": 19,
      "id": "8602d863",
      "metadata": {
        "colab": {
          "base_uri": "https://localhost:8080/"
        },
        "id": "8602d863",
        "outputId": "317745b1-b4ea-4e23-c322-e06ed4ce845e"
      },
      "outputs": [
        {
          "output_type": "stream",
          "name": "stdout",
          "text": [
            "-6.0\n",
            "136\n"
          ]
        },
        {
          "output_type": "execute_result",
          "data": {
            "text/plain": [
              "array([[ 1, -4, -1, -1,  3],\n",
              "       [-1,  1, -2,  0,  3],\n",
              "       [ 2,  4,  4, -3,  2],\n",
              "       [ 3,  3,  4, -3,  1]])"
            ]
          },
          "metadata": {},
          "execution_count": 19
        }
      ],
      "source": [
        "# your code here\n",
        "# ヽ(♡‿♡)ノ\n",
        "X = np.random.randint(low = -4, high = 5, size=(4, 5))\n",
        "print(np.linalg.det(X[1:3, 0:2]))\n",
        "print(np.trace(X.T @ X))\n",
        "X"
      ]
    },
    {
      "cell_type": "markdown",
      "id": "fd9a9ca1",
      "metadata": {
        "id": "fd9a9ca1"
      },
      "source": [
        "На паре мы говорили, что использования циклов (и самописных вычислений в целом) в python лучше по возможности избегать и важно уметь находить способы делать всё библиотечными средствами.\n",
        "\n",
        "В следующих трёх заданиях нельзя пользоваться циклами вообще, а также конструкциями `map` и `reduce` и им подобными; вместо этого постарайтесь свести всё к матричным операциям из `numpy` (но, опять же, не `np.vectorize` или чему-то подобному). Чтобы убедиться, что получилось именно то, что нужно, напишите собственные тесты со случайными матрицами."
      ]
    },
    {
      "cell_type": "markdown",
      "id": "4174cdeb",
      "metadata": {
        "id": "4174cdeb"
      },
      "source": [
        "**[5 баллов]** Напишите функцию `prod_and_sq_sum(A)`, вычисляющую произведение и сумму квадратов диагональных элементов квадратной матрицы `A`."
      ]
    },
    {
      "cell_type": "code",
      "execution_count": 20,
      "id": "5e8bb2b1",
      "metadata": {
        "colab": {
          "base_uri": "https://localhost:8080/"
        },
        "id": "5e8bb2b1",
        "outputId": "8bd9a2cf-1f7c-468b-f858-f9a3c34e31f1"
      },
      "outputs": [
        {
          "output_type": "stream",
          "name": "stdout",
          "text": [
            "(224, 129)\n"
          ]
        },
        {
          "output_type": "execute_result",
          "data": {
            "text/plain": [
              "array([[4, 8, 3],\n",
              "       [4, 7, 6],\n",
              "       [3, 6, 8]])"
            ]
          },
          "metadata": {},
          "execution_count": 20
        }
      ],
      "source": [
        "# your code here\n",
        "# ٩(x̯x)۶\n",
        "def prod_and_sq_sum(A):\n",
        "  B = np.diag(A)\n",
        "  prod = np.prod(B)\n",
        "  sq_sum = np.sum(B ** 2)\n",
        "  return prod, sq_sum\n",
        "\n",
        "A = np.random.randint(low = 3, high = 10, size = (3, 3))\n",
        "\n",
        "print(prod_and_sq_sum(A))\n",
        "A\n"
      ]
    },
    {
      "cell_type": "markdown",
      "id": "158aad78",
      "metadata": {
        "id": "158aad78"
      },
      "source": [
        "**[5 баллов]** Для матриц `A` и `B` размера $m\\times n$ обозначим через $a_1,\\ldots,a_n$ и $b_1,\\ldots,b_n$ соответственно их столбцы. Напишите функцию `f(A, B, k)`, вычисляющую\n",
        "\n",
        "$$\\sum_{i=1}^{\\min(k, n)}a_ib_i^T$$"
      ]
    },
    {
      "cell_type": "code",
      "execution_count": 25,
      "id": "735995b7",
      "metadata": {
        "colab": {
          "base_uri": "https://localhost:8080/"
        },
        "id": "735995b7",
        "outputId": "7d488672-d04c-4a7c-f54d-f4349370f20a"
      },
      "outputs": [
        {
          "output_type": "stream",
          "name": "stdout",
          "text": [
            "[[ 42  80]\n",
            " [ 50 104]]\n"
          ]
        },
        {
          "output_type": "execute_result",
          "data": {
            "text/plain": [
              "(array([[2, 2, 3],\n",
              "        [2, 3, 4]]),\n",
              " array([[11,  4,  4],\n",
              "        [10, 12, 12]]))"
            ]
          },
          "metadata": {},
          "execution_count": 25
        }
      ],
      "source": [
        "# your code here\n",
        "# ( ͡⊙ ͜ʖ ͡⊙)'\n",
        "\n",
        "def f(A, B, k):\n",
        "  m, n = A.shape\n",
        "  num_cols = min(k, n)\n",
        "  return np.dot(A[:, :num_cols + 1], B[:num_cols + 1, :].T)\n",
        "\n",
        "A = np.random.randint(low = 2, high = 5, size = (2, 3))\n",
        "B = np.random.randint(low = 3, high = 13, size = (2, 3))\n",
        "k = 2\n",
        "\n",
        "\n",
        "print(f(A, B, k))\n",
        "A, B"
      ]
    },
    {
      "cell_type": "markdown",
      "id": "669d8193",
      "metadata": {
        "id": "669d8193"
      },
      "source": [
        "**[5 баллов]** Напишите функцию `get_diag(A,B)`, принимающую две квадратных матрицы `A` и `B` одного размера и возвращающую вектор диагональных элементов произведения `AB`, не вычисляя произведение целиком."
      ]
    },
    {
      "cell_type": "code",
      "execution_count": 24,
      "id": "c1f261be",
      "metadata": {
        "colab": {
          "base_uri": "https://localhost:8080/"
        },
        "id": "c1f261be",
        "outputId": "3efbaacc-df06-4b70-a8b5-2f55518933c7"
      },
      "outputs": [
        {
          "output_type": "stream",
          "name": "stdout",
          "text": [
            "[46 34]\n"
          ]
        },
        {
          "output_type": "execute_result",
          "data": {
            "text/plain": [
              "(array([[2, 4],\n",
              "        [2, 2]]),\n",
              " array([[7, 8],\n",
              "        [8, 9]]))"
            ]
          },
          "metadata": {},
          "execution_count": 24
        }
      ],
      "source": [
        "# your code here\n",
        "# (っ˘ڡ˘ς)\n",
        "def get_diag(A, B):\n",
        "  return np.einsum('ij,ji -> i', A, B)\n",
        "\n",
        "A = np.random.randint(low = 2, high = 5, size = (2, 2))\n",
        "B = np.random.randint(low = 3, high = 13, size = (2, 2))\n",
        "\n",
        "print(get_diag(A, B))\n",
        "A, B"
      ]
    },
    {
      "cell_type": "markdown",
      "id": "eda4aa19",
      "metadata": {
        "id": "eda4aa19"
      },
      "source": [
        "## Задача 2: про удачу и нашу жизнь (25 баллов)\n",
        "\n",
        "Задача была вдохновлена [вот этим видео.](https://www.youtube.com/watch?v=3LopI4YeC4I)\n",
        "\n",
        "Люди часто недооценивают роль случайности в своей жизни. Им кажется, что если они прокачают свои навыки и отдадутся полностью работе, они обязательно достигнут успеха. Люди забывают, что удача тоже важна. Иногда слишком.\n",
        "\n",
        "Пусть у нас в выборке есть $10000$ кандидатов в космонавты. Из них только $10$ человек пройдут все испытания и приступят к тренировкам. Отбор в космонавты на $95\\%$ зависит от навыков кандидата и на $5\\%$ от его удачливости. Навыки и удачливость не зависят друг от друга.\n",
        "\n",
        "__а) [5 баллов]__  Сгенерируйте навык каждого кандидата из равномерного распределения на отрезке $[0; 1]$. По аналогии сгенирируйте удачливость каждого кандидата. Итоговую величину, по которой будет производиться отбор в космонавты, рассчитайте по формуле:\n",
        "\n",
        "$$\n",
        "\\text{score} = 0.95 \\cdot \\text{skill} + 0.05 \\cdot \\text{luck}.\n",
        "$$\n",
        "\n",
        "Повторите эту симуляцию $10^4$ раз. Оцените среднее значение удачливости тех, кто стал космонавтом. Постройте гистограмму для распределения удачи среди тех, кто стал космонавтом.\n",
        "\n",
        "**Hint:** обратите внимание на функцию `np.argpartition`. Она поможет вам сделать код проще. Также обратите внимание, что в пунктах б) и в) нужно переиспользовать результаты симуляций из пункта а). Иначе код будет работать слишком долго."
      ]
    },
    {
      "cell_type": "code",
      "execution_count": 8,
      "id": "286b49a7",
      "metadata": {
        "colab": {
          "base_uri": "https://localhost:8080/",
          "height": 504
        },
        "id": "286b49a7",
        "outputId": "acc4ab49-f401-45ea-a58c-c024aedb4d06"
      },
      "outputs": [
        {
          "output_type": "display_data",
          "data": {
            "text/plain": [
              "<Figure size 700x500 with 1 Axes>"
            ],
            "image/png": "[encoded data removed]"
          },
          "metadata": {}
        },
        {
          "output_type": "stream",
          "name": "stdout",
          "text": [
            "Cреднее значение удачливости тех, кто стал космонавтом: 0.9324145301881265\n"
          ]
        }
      ],
      "source": [
        "# your code here\n",
        "# (⌐■_■)\n",
        "luck_value_astronauts = []\n",
        "num_austrauts = 10\n",
        "\n",
        "skill = np.random.rand(10000, 10000)\n",
        "luck = np.random.rand(10000, 10000)\n",
        "\n",
        "score = 0.95 * skill + 0.05 * luck\n",
        "\n",
        "top_idx = np.argpartition(score, -10, axis=1)[:, -10:]\n",
        "chosen_luck = luck[np.tile(np.arange(10000), (10, 1)).T, top_idx]\n",
        "\n",
        "mean_val = np.mean(chosen_luck)\n",
        "\n",
        "plt.figure(figsize=(7,5))\n",
        "plt.hist(chosen_luck.flatten(), bins=50, color='green', edgecolor='black')\n",
        "plt.xlabel('Уровень удачи')\n",
        "plt.ylabel('Количество космонтавтов')\n",
        "plt.title('Распрделение удачи, среди тех, кто стал космонавтом')\n",
        "plt.show()\n",
        "\n",
        "print(f'Cреднее значение удачливости тех, кто стал космонавтом: {mean_val}')\n",
        "\n"
      ]
    },
    {
      "cell_type": "markdown",
      "id": "4b0f755e",
      "metadata": {
        "id": "4b0f755e"
      },
      "source": [
        "__б) [5 баллов]__  Отберите космонавтов по навыкам, `skill`. Оцените с помощью симуляций, на сколько в среднем человек топ кандидатов по `skill` пересекается с топом по `score`."
      ]
    },
    {
      "cell_type": "code",
      "source": [
        "skill = np.random.rand(10000, 10000)\n",
        "luck = np.random.rand(10000, 10000)\n",
        "score = 0.95 * skill + 0.05 * luck\n",
        "\n",
        "top_score_i = np.argpartition(score, -10, axis=1)[:, -10:]\n",
        "top_skill_i = np.argpartition(skill, -10, axis=1)[:, -10:]"
      ],
      "metadata": {
        "id": "aS80fC0yV_7U"
      },
      "id": "aS80fC0yV_7U",
      "execution_count": 10,
      "outputs": []
    },
    {
      "cell_type": "code",
      "execution_count": 11,
      "id": "baea761d",
      "metadata": {
        "colab": {
          "base_uri": "https://localhost:8080/"
        },
        "id": "baea761d",
        "outputId": "3aaf6622-bbcd-4ebd-d8d3-43076ccbf470"
      },
      "outputs": [
        {
          "output_type": "stream",
          "name": "stdout",
          "text": [
            "В среднем топ кандидатов по skill и по score перескаются на 1.834 человека\n"
          ]
        }
      ],
      "source": [
        "def count_matchings(row):\n",
        "    return len(row) - len(set(row))\n",
        "\n",
        "all_i = np.concatenate((top_skill_i, top_score_i), axis=1)\n",
        "matchings = np.apply_along_axis(count_matchings, axis=1, arr=all_i)\n",
        "\n",
        "print(f'В среднем топ кандидатов по skill и по score перескаются на {np.mean(matchings)} человека')"
      ]
    },
    {
      "cell_type": "markdown",
      "id": "9ac254b2",
      "metadata": {
        "id": "9ac254b2"
      },
      "source": [
        "__в) [5 баллов]__ А что будет, если мы будем отбирать больше космонавтов?\n",
        "\n",
        "Для каждого $n$ от $10$ до $500$ с шагом в $10$ сделайте процедуру отбора в космонавты топ-$n$ кандидатов по `skill` и по `score`. Посчитайте, на сколько в среднем процентов отличаются эти топы. Изобразите получившуюсья зависимость на графике. По оси абсцисс отложите $n$, по оси ординат процент пересечения."
      ]
    },
    {
      "cell_type": "code",
      "execution_count": 12,
      "id": "690a9019",
      "metadata": {
        "colab": {
          "base_uri": "https://localhost:8080/",
          "height": 487
        },
        "id": "690a9019",
        "outputId": "07ca08ec-ebb7-4216-c78c-1b3a2a553f4e"
      },
      "outputs": [
        {
          "output_type": "display_data",
          "data": {
            "text/plain": [
              "<Figure size 700x500 with 1 Axes>"
            ],
            "image/png": "[encoded data removed]"
          },
          "metadata": {}
        }
      ],
      "source": [
        "# your code here\n",
        "# (っ˘ڡ˘ς)\n",
        "d = np.empty(0)\n",
        "for n in range(10, 510, 10):\n",
        "    top_skill_i = np.argpartition(skill, -n, axis=1)[:, -n:]\n",
        "    top_score_i = np.argpartition(score, -n, axis=1)[:, -n:]\n",
        "    all_i = np.concatenate((top_skill_i, top_score_i), axis=1)\n",
        "    matchings = np.apply_along_axis(count_matchings, axis=1, arr=all_i)\n",
        "    p = np.mean(matchings) / n\n",
        "    d = np.append(d, p)\n",
        "\n",
        "plt.figure(figsize=(7,5))\n",
        "plt.plot(np.arange(10, 510, 10), d)\n",
        "plt.xlabel('n')\n",
        "plt.ylabel('Процент пересечения')\n",
        "plt.title('Зависимость процента пересечения от n')\n",
        "plt.show()"
      ]
    },
    {
      "cell_type": "markdown",
      "id": "0be40bd3",
      "metadata": {
        "id": "0be40bd3"
      },
      "source": [
        "__г) [5 баллов]__ Сделайте выводы из проделанных рассчётов.\n",
        "\n",
        "__Ответ:__ Тут надо написать выводы текстом!"
      ]
    },
    {
      "cell_type": "markdown",
      "source": [
        "Парадокс заключается в том, что не смотря на свою маленькую долю в общем учёте, удача у всех прошедших в космонавты близка к единице. Складывается впечатление, что удача является решающим фактором, однако это не совсем так. Просто score и luck коррелируют между собой. Кажется, что среднее значение удачи в 0.932 это очень много, пока не узнаёшь, что среднее значение по skill - 0.996, то есть, всё же, скилл важнее примерно в 19 раз (что логично, потому что 95% = 5% * 19).\n",
        "\n",
        "В общем, влияние удачи скорее обусловлено эффектом бабочки. Если из 10000 человек проходят только 10, то это всего 0.1% от общего числа, а значит малейшее изменение в параметрах может сильно изменить итоговый топ. Эту мысль поддерживает и ответ в пункте В). Когда настройка системы становиться не такой тонкой, то маленькие изменения уже не могут внести весомый вклад."
      ],
      "metadata": {
        "id": "LGP1CfhjWmIE"
      },
      "id": "LGP1CfhjWmIE"
    },
    {
      "cell_type": "markdown",
      "id": "5d82e31e",
      "metadata": {
        "id": "5d82e31e"
      },
      "source": [
        "> Повод ли это грустить? Конечно же, нет. Если вы попытались схватиться за одну из возможностей и у вас ничего не вышло, забудьте об этом. Не впадайте в депрессию, продолжайте пытаться. В мире есть столько возможностей, которые можно упустить. Обидно будет, если вы не попробуете ещё. Рано или поздно удача вам улыбнётся ❤️❤️❤️\n",
        "\n",
        "Давайте попробуем понять, когда именно она вам улыбнётся."
      ]
    },
    {
      "cell_type": "markdown",
      "id": "17f86e19",
      "metadata": {
        "id": "17f86e19"
      },
      "source": [
        "__д) [4 балла]__ Юра хочет стать космонавтом. У него довольно хорошо развиты навыки. Юра входит в $1\\%$ лучших, его `score = 0.99` (Юра прокачал свои навыки до 0.99 и вообще не полагается на удачу). С какой вероятностью Юра станет космонавтом?"
      ]
    },
    {
      "cell_type": "code",
      "execution_count": 13,
      "id": "cfbbeed1",
      "metadata": {
        "colab": {
          "base_uri": "https://localhost:8080/"
        },
        "id": "cfbbeed1",
        "outputId": "30663f6a-dac6-4b1f-e8ad-76aef88e9d33"
      },
      "outputs": [
        {
          "output_type": "stream",
          "name": "stdout",
          "text": [
            "Вероятность, что Юра станет космонавтом: 0.3979\n"
          ]
        }
      ],
      "source": [
        "# your code here\n",
        "# ٩(x̯x)۶\n",
        "top_score_i = np.argpartition(score, -10, axis=1)[:, -10:]\n",
        "chosen_score = score[np.tile(np.arange(10000), (10, 1)).T, top_score_i]\n",
        "\n",
        "min_top_score = np.min(chosen_score, axis = 1)\n",
        "success = min_top_score[min_top_score < 0.99]\n",
        "\n",
        "probability = success.size / min_top_score.size\n",
        "\n",
        "print(f'Вероятность, что Юра станет космонавтом: {probability}')"
      ]
    },
    {
      "cell_type": "markdown",
      "id": "a4c875b8",
      "metadata": {
        "id": "a4c875b8"
      },
      "source": [
        "__е) [1 балл]__ Юра пытается снова и снова. Сколько в среднем попыток ему надо сделать до первого успеха?\n",
        "\n",
        "__Hint:__ тут не нужно ничего симулировать. Надо вспомнить про геометрическое распределение и его математическое ожидание."
      ]
    },
    {
      "cell_type": "code",
      "execution_count": 14,
      "id": "dbd817f1",
      "metadata": {
        "colab": {
          "base_uri": "https://localhost:8080/"
        },
        "id": "dbd817f1",
        "outputId": "e134b312-4c9a-42f8-d455-1debd1f5635e"
      },
      "outputs": [
        {
          "output_type": "stream",
          "name": "stdout",
          "text": [
            "В среднем Юре надо сделать 2.5131942699170646 попытки\n"
          ]
        }
      ],
      "source": [
        "# your code here\n",
        "# (＠_＠)\n",
        "print(f'В среднем Юре надо сделать {1/probability} попытки')"
      ]
    }
  ],
  "metadata": {
    "kernelspec": {
      "display_name": "Python 3 (ipykernel)",
      "language": "python",
      "name": "python3"
    },
    "language_info": {
      "codemirror_mode": {
        "name": "ipython",
        "version": 3
      },
      "file_extension": ".py",
      "mimetype": "text/x-python",
      "name": "python",
      "nbconvert_exporter": "python",
      "pygments_lexer": "ipython3",
      "version": "3.11.6"
    },
    "colab": {
      "provenance": []
    }
  },
  "nbformat": 4,
  "nbformat_minor": 5
}