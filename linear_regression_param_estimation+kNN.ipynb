{
  "nbformat": 4,
  "nbformat_minor": 0,
  "metadata": {
    "colab": {
      "provenance": []
    },
    "kernelspec": {
      "name": "python3",
      "display_name": "Python 3"
    },
    "language_info": {
      "name": "python"
    }
  },
  "cells": [
    {
      "cell_type": "code",
      "execution_count": null,
      "metadata": {
        "id": "-zKl2e4bNZp2"
      },
      "outputs": [],
      "source": [
        "import numpy as np\n",
        "import pandas as pd\n",
        "import seaborn as sns\n",
        "import matplotlib.pyplot as plt\n",
        "import statsmodels.api as sm\n",
        "from sklearn.metrics import mean_squared_error, mean_absolute_error, r2_score\n",
        "from sklearn.model_selection import train_test_split\n",
        "from sklearn.neighbors import KNeighborsRegressor\n",
        "\n"
      ]
    },
    {
      "cell_type": "code",
      "source": [
        "path = '/sleep75.csv'\n",
        "data = pd.read_csv(path)\n",
        "\n",
        "X = data[['totwrk', 'male']]\n",
        "y = data['sleep']\n",
        "X = sm.add_constant(X)\n",
        "model = sm.OLS(y, X).fit()\n",
        "\n",
        "coefficients = model.params.round(2)\n",
        "coefficients"
      ],
      "metadata": {
        "colab": {
          "base_uri": "https://localhost:8080/"
        },
        "id": "wogUDwhLRr1Z",
        "outputId": "fa8ae4fa-a764-40a6-cca6-99d37f11950f"
      },
      "execution_count": null,
      "outputs": [
        {
          "output_type": "execute_result",
          "data": {
            "text/plain": [
              "const     3573.20\n",
              "totwrk      -0.17\n",
              "male        88.84\n",
              "dtype: float64"
            ]
          },
          "metadata": {},
          "execution_count": 3
        }
      ]
    },
    {
      "cell_type": "code",
      "source": [
        "individual = data.iloc[0]\n",
        "totwrk_value = individual['totwrk']\n",
        "male_value = individual['male']\n",
        "\n",
        "sleep_prediction = coefficients['const'] + coefficients['totwrk'] * totwrk_value + coefficients['male'] * male_value\n",
        "sleep_prediction"
      ],
      "metadata": {
        "colab": {
          "base_uri": "https://localhost:8080/"
        },
        "id": "7hFbzz3rUP6B",
        "outputId": "8fc9ab50-e159-4806-c0f1-1dabeabb933c"
      },
      "execution_count": null,
      "outputs": [
        {
          "output_type": "execute_result",
          "data": {
            "text/plain": [
              "3077.58"
            ]
          },
          "metadata": {},
          "execution_count": 6
        }
      ]
    },
    {
      "cell_type": "code",
      "source": [
        "individual = data.iloc[2]\n",
        "totwrk_value = individual['totwrk']\n",
        "male_value = individual['male']\n",
        "\n",
        "sleep_prediction = coefficients['const'] + coefficients['totwrk'] * totwrk_value + coefficients['male'] * male_value\n",
        "sleep_prediction"
      ],
      "metadata": {
        "colab": {
          "base_uri": "https://localhost:8080/"
        },
        "id": "q0MLXaa5UVqH",
        "outputId": "b4cf9e16-6adb-4851-b0a2-204389fc9cdb"
      },
      "execution_count": null,
      "outputs": [
        {
          "output_type": "execute_result",
          "data": {
            "text/plain": [
              "3183.49"
            ]
          },
          "metadata": {},
          "execution_count": 5
        }
      ]
    },
    {
      "cell_type": "code",
      "source": [
        "predictions = model.predict(X)\n",
        "\n",
        "r_squared = r2_score(y, predictions)\n",
        "mse = mean_squared_error(y, predictions)\n",
        "mae = mean_absolute_error(y, predictions)\n",
        "mape = ((abs((y - predictions) / y).mean()) * 100)\n",
        "rmse = mse ** 0.5\n",
        "\n",
        "r_squared.round(2), mse.round(2), mae.round(2), mape.round(2), rmse.round(2)"
      ],
      "metadata": {
        "colab": {
          "base_uri": "https://localhost:8080/"
        },
        "id": "18QxhKcjUifa",
        "outputId": "85b622bb-0ff4-4a30-85a0-1ebea84300cf"
      },
      "execution_count": null,
      "outputs": [
        {
          "output_type": "execute_result",
          "data": {
            "text/plain": [
              "(0.11, 175189.56, 315.46, 10.52, 418.56)"
            ]
          },
          "metadata": {},
          "execution_count": 8
        }
      ]
    },
    {
      "cell_type": "code",
      "source": [
        "new_path = '/Labour.csv'\n",
        "labour = pd.read_csv(new_path)\n",
        "\n",
        "X = labour[['capital', 'wage']]\n",
        "y = labour['output']\n",
        "\n",
        "X_train, X_test, y_train, y_test = train_test_split(X, y, test_size=0.2, random_state=42)\n",
        "\n",
        "\n",
        "knn = KNeighborsRegressor(n_neighbors=5, weights='uniform')\n",
        "knn.fit(X_train, y_train)\n",
        "\n",
        "y_pred = knn.predict(X_test)\n",
        "\n",
        "\n",
        "r_squared = r2_score(y_test, y_pred)\n",
        "mse = mean_squared_error(y_test, y_pred)\n",
        "mae = mean_absolute_error(y_test, y_pred)\n",
        "mape = (abs((y_test - y_pred) / y_test).mean()) * 100\n",
        "rmse = mse ** 0.5\n",
        "\n",
        "r_squared.round(2), mse.round(2), mae.round(2), mape.round(2), rmse.round(2)"
      ],
      "metadata": {
        "colab": {
          "base_uri": "https://localhost:8080/"
        },
        "id": "PLibw95aVuq3",
        "outputId": "6128b67a-24c6-44b1-aab8-687239656598"
      },
      "execution_count": null,
      "outputs": [
        {
          "output_type": "execute_result",
          "data": {
            "text/plain": [
              "(0.78, 181.73, 5.51, 85.81, 13.48)"
            ]
          },
          "metadata": {},
          "execution_count": 12
        }
      ]
    }
  ]
}