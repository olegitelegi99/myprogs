{
  "nbformat": 4,
  "nbformat_minor": 0,
  "metadata": {
    "colab": {
      "provenance": []
    },
    "kernelspec": {
      "name": "python3",
      "display_name": "Python 3"
    },
    "language_info": {
      "name": "python"
    }
  },
  "cells": [
    {
      "cell_type": "code",
      "execution_count": 83,
      "metadata": {
        "id": "kP-hXQ3QoiGv"
      },
      "outputs": [],
      "source": [
        "import torch\n",
        "import torch.nn as nn\n",
        "import torch.optim as optim\n",
        "import torchvision as tv\n",
        "import torchvision.transforms as transforms\n",
        "\n",
        "\n",
        "import numpy as np\n",
        "import matplotlib.pyplot as plt\n",
        "import cv2\n",
        "import os\n",
        "import random\n",
        "\n",
        "from sklearn.model_selection import cross_val_score\n",
        "from sklearn.model_selection import train_test_split\n",
        "from tqdm import tqdm\n",
        "\n",
        "from PIL import Image\n"
      ]
    },
    {
      "cell_type": "code",
      "source": [
        "data_set_mnist = tv.datasets.MNIST(root='./data', train=True, download=True, transform=tv.transforms.ToTensor())"
      ],
      "metadata": {
        "id": "hk3xY_oUpYmz"
      },
      "execution_count": 6,
      "outputs": []
    },
    {
      "cell_type": "code",
      "source": [
        "plt.imshow(data_set_mnist[7][0].numpy()[0], cmap = 'bone_r')\n",
        "plt.show()"
      ],
      "metadata": {
        "colab": {
          "base_uri": "https://localhost:8080/",
          "height": 430
        },
        "id": "ONIWgvN3pv0m",
        "outputId": "98d7a994-792f-4417-ffd7-b8cee2ab2edd"
      },
      "execution_count": 69,
      "outputs": [
        {
          "output_type": "display_data",
          "data": {
            "text/plain": [
              "<Figure size 640x480 with 1 Axes>"
            ],
            "image/png": "[encoded data removed]"
          },
          "metadata": {}
        }
      ]
    },
    {
      "cell_type": "code",
      "source": [
        "batch_size = 50\n",
        "train_loader = torch.utils.data.DataLoader(data_set_mnist, batch_size=batch_size, shuffle=True, num_workers=2, drop_last = True)\n",
        "test_loader = torch.utils.data.DataLoader(data_set_mnist, batch_size=10, shuffle=True, num_workers=2)"
      ],
      "metadata": {
        "id": "UWeETcUZrQfe"
      },
      "execution_count": 38,
      "outputs": []
    },
    {
      "cell_type": "code",
      "source": [
        "class Neural_Network_numbers(nn.Module):\n",
        "  def __init__(self):\n",
        "    super().__init__()\n",
        "\n",
        "    linear1 = nn.Linear(28 * 28, 100)\n",
        "    linear2 = nn.Linear(100, 10)\n",
        "\n",
        "    act_function = nn.Sigmoid()\n",
        "\n",
        "    self.model = nn.Sequential(\n",
        "        nn.Flatten(),\n",
        "        linear1,\n",
        "        act_function,\n",
        "        linear2\n",
        "    )\n",
        "\n",
        "  def forward(self, x):\n",
        "    return self.model(x)\n",
        "\n",
        ""
      ],
      "metadata": {
        "id": "kKf-GXQ_tMi_"
      },
      "execution_count": 74,
      "outputs": []
    },
    {
      "cell_type": "code",
      "source": [
        "loss_fn = nn.CrossEntropyLoss()\n",
        "model = Neural_Network_numbers()"
      ],
      "metadata": {
        "id": "Fk-mvmG-yU6i"
      },
      "execution_count": 75,
      "outputs": []
    },
    {
      "cell_type": "code",
      "source": [
        "optimizer = optim.SGD(model.parameters(), lr = 0.001)"
      ],
      "metadata": {
        "id": "QfqXSXnpy6Dq"
      },
      "execution_count": 76,
      "outputs": []
    },
    {
      "cell_type": "code",
      "source": [
        "def accuracy(pred, label):\n",
        "  return (pred.argmax(dim=1) == label).float().mean()"
      ],
      "metadata": {
        "id": "LzDGtyM_XN2h"
      },
      "execution_count": 79,
      "outputs": []
    },
    {
      "cell_type": "code",
      "source": [
        "epochs = 10\n",
        "for _ in range(epochs):\n",
        "  loss_value = 0\n",
        "  acc_value = 0\n",
        "  for img, label in (pbar := tqdm(train_loader, position=0)):\n",
        "    optimizer.zero_grad()\n",
        "    pred = model(img)\n",
        "\n",
        "    loss = loss_fn(pred, label)\n",
        "    loss.backward()\n",
        "\n",
        "    optimizer.step()\n",
        "\n",
        "    acc_curr = accuracy(pred, label)\n",
        "    acc_value += acc_curr.item()\n",
        "    loss_value += loss.item()\n",
        "  print('accuracy', acc_value / len(train_loader))\n",
        "  print('loss', loss_value)\n",
        ""
      ],
      "metadata": {
        "colab": {
          "base_uri": "https://localhost:8080/"
        },
        "id": "Gpm_lta7zbTo",
        "outputId": "6776a1b5-0ab6-4c59-df19-f032bc4bf7af"
      },
      "execution_count": 82,
      "outputs": [
        {
          "output_type": "stream",
          "name": "stderr",
          "text": [
            "100%|██████████| 1200/1200 [00:13<00:00, 89.53it/s] \n"
          ]
        },
        {
          "output_type": "stream",
          "name": "stdout",
          "text": [
            "accuracy 0.7055500032256047\n",
            "loss 1829.5864466428757\n"
          ]
        },
        {
          "output_type": "stream",
          "name": "stderr",
          "text": [
            "100%|██████████| 1200/1200 [00:13<00:00, 89.13it/s] \n"
          ]
        },
        {
          "output_type": "stream",
          "name": "stdout",
          "text": [
            "accuracy 0.722633334894975\n",
            "loss 1736.3414227962494\n"
          ]
        },
        {
          "output_type": "stream",
          "name": "stderr",
          "text": [
            "100%|██████████| 1200/1200 [00:13<00:00, 89.49it/s] \n"
          ]
        },
        {
          "output_type": "stream",
          "name": "stdout",
          "text": [
            "accuracy 0.7341666673620542\n",
            "loss 1648.639704823494\n"
          ]
        },
        {
          "output_type": "stream",
          "name": "stderr",
          "text": [
            "100%|██████████| 1200/1200 [00:13<00:00, 88.71it/s] \n"
          ]
        },
        {
          "output_type": "stream",
          "name": "stdout",
          "text": [
            "accuracy 0.7466833338638147\n",
            "loss 1567.2165565490723\n"
          ]
        },
        {
          "output_type": "stream",
          "name": "stderr",
          "text": [
            "100%|██████████| 1200/1200 [00:13<00:00, 87.94it/s] \n"
          ]
        },
        {
          "output_type": "stream",
          "name": "stdout",
          "text": [
            "accuracy 0.7565499991675217\n",
            "loss 1492.2349331378937\n"
          ]
        },
        {
          "output_type": "stream",
          "name": "stderr",
          "text": [
            "100%|██████████| 1200/1200 [00:13<00:00, 89.52it/s] \n"
          ]
        },
        {
          "output_type": "stream",
          "name": "stdout",
          "text": [
            "accuracy 0.7664166646699111\n",
            "loss 1423.5347326993942\n"
          ]
        },
        {
          "output_type": "stream",
          "name": "stderr",
          "text": [
            "100%|██████████| 1200/1200 [00:13<00:00, 90.33it/s] \n"
          ]
        },
        {
          "output_type": "stream",
          "name": "stdout",
          "text": [
            "accuracy 0.7758999978005886\n",
            "loss 1360.7691558599472\n"
          ]
        },
        {
          "output_type": "stream",
          "name": "stderr",
          "text": [
            "100%|██████████| 1200/1200 [00:13<00:00, 90.13it/s] \n"
          ]
        },
        {
          "output_type": "stream",
          "name": "stdout",
          "text": [
            "accuracy 0.7824999961753686\n",
            "loss 1303.4814395308495\n"
          ]
        },
        {
          "output_type": "stream",
          "name": "stderr",
          "text": [
            "100%|██████████| 1200/1200 [00:13<00:00, 90.60it/s]\n"
          ]
        },
        {
          "output_type": "stream",
          "name": "stdout",
          "text": [
            "accuracy 0.7909166629612446\n",
            "loss 1251.1087391972542\n"
          ]
        },
        {
          "output_type": "stream",
          "name": "stderr",
          "text": [
            "100%|██████████| 1200/1200 [00:12<00:00, 96.60it/s]"
          ]
        },
        {
          "output_type": "stream",
          "name": "stdout",
          "text": [
            "accuracy 0.7968666631480058\n",
            "loss 1203.2144969701767\n"
          ]
        },
        {
          "output_type": "stream",
          "name": "stderr",
          "text": [
            "\n"
          ]
        }
      ]
    },
    {
      "cell_type": "code",
      "source": [],
      "metadata": {
        "id": "C2DWW4q5ZV0w"
      },
      "execution_count": null,
      "outputs": []
    }
  ]
}